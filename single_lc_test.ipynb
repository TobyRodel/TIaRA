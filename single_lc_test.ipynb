{
 "cells": [
  {
   "cell_type": "code",
   "execution_count": 1,
   "metadata": {},
   "outputs": [],
   "source": [
    "%matplotlib widget\n",
    "import os\n",
    "import numpy as np\n",
    "import pandas as pd\n",
    "import textwrap\n",
    "from astropy.io import fits\n",
    "import scipy.constants as const\n",
    "import single_lc_funcs as fn\n",
    "import matplotlib.pyplot as plt"
   ]
  },
  {
   "cell_type": "code",
   "execution_count": 2,
   "metadata": {},
   "outputs": [],
   "source": [
    "tex_fonts = {\n",
    "    # Use LaTeX to write all text\n",
    "    \"text.usetex\": True,\n",
    "    \"font.family\": \"serif\",\n",
    "    # Use 10pt font in plots, to match 10pt font in document\n",
    "    \"axes.labelsize\": 13,\n",
    "    \"font.size\": 12,\n",
    "    # Make the legend/label fonts a little smaller\n",
    "    \"legend.fontsize\": 13,\n",
    "    \"xtick.labelsize\": 12,\n",
    "    \"ytick.labelsize\": 12\n",
    "}\n",
    "\n",
    "plt.rcParams.update(tex_fonts)"
   ]
  },
  {
   "cell_type": "code",
   "execution_count": 3,
   "metadata": {},
   "outputs": [],
   "source": [
    "#Load in occurence rate tables\n",
    "fgk = pd.read_csv(os.path.join('Occurrence_rates','norm_rates_FGK.csv'))\n",
    "tables = {'F': fgk, 'G':fgk, 'K':fgk}"
   ]
  },
  {
   "cell_type": "code",
   "execution_count": 4,
   "metadata": {},
   "outputs": [],
   "source": [
    "#Filter target list to include only single sector targets\n",
    "target_list_path = os.path.join('target-lists', 'year1targets.csv')\n",
    "target_list = pd.read_csv(target_list_path, index_col=None)\n",
    "target_list['N_sec'] = target_list.drop('OBJECT', axis=1).sum(axis=1)\n",
    "mask = target_list['N_sec'] == 1\n",
    "target_list = target_list[mask]\n",
    "del target_list['N_sec']"
   ]
  },
  {
   "cell_type": "code",
   "execution_count": 5,
   "metadata": {},
   "outputs": [],
   "source": [
    "#Pick a target\n",
    "lim = target_list.shape[0]\n",
    "tic, secs = fn.tic_choose(target_list, np.random.randint(low=0, high=lim))\n",
    "Paths = fn.spoc_lc_path(tic, secs)"
   ]
  },
  {
   "cell_type": "code",
   "execution_count": 6,
   "metadata": {},
   "outputs": [
    {
     "name": "stdout",
     "output_type": "stream",
     "text": [
      "           TIC_ID        RA       DEC  TESSMAG  ST_T_EFF TYPE  PL_PERIOD  \\\n",
      "0    TIC 24208688  14.83155 -9.124406  12.2078    5951.0    G  29.347858   \n",
      "1    TIC 24208688  14.83155 -9.124406  12.2078    5951.0    G  29.347858   \n",
      "2    TIC 24208688  14.83155 -9.124406  12.2078    5951.0    G  29.347858   \n",
      "3    TIC 24208688  14.83155 -9.124406  12.2078    5951.0    G  29.347858   \n",
      "4    TIC 24208688  14.83155 -9.124406  12.2078    5951.0    G  29.347858   \n",
      "..            ...       ...       ...      ...       ...  ...        ...   \n",
      "995  TIC 24208688  14.83155 -9.124406  12.2078    5951.0    G  79.005806   \n",
      "996  TIC 24208688  14.83155 -9.124406  12.2078    5951.0    G  79.005806   \n",
      "997  TIC 24208688  14.83155 -9.124406  12.2078    5951.0    G  79.005806   \n",
      "998  TIC 24208688  14.83155 -9.124406  12.2078    5951.0    G  79.005806   \n",
      "999  TIC 24208688  14.83155 -9.124406  12.2078    5951.0    G  79.005806   \n",
      "\n",
      "     PL_RADIUS   P_TRANS     P_OBS    IMPACT    OFFSET       S/N  \n",
      "0     0.567964  0.015252  0.000710  0.021295  0.052356  0.088482  \n",
      "1     0.567964  0.015252  0.000710  0.021295  0.014009  0.088482  \n",
      "2     0.567964  0.015252  0.000710  0.021295  0.064103  0.081918  \n",
      "3     0.567964  0.015252  0.000710  0.021295  0.016985  0.088482  \n",
      "4     0.567964  0.015252  0.000710  0.021295  0.088511  0.088482  \n",
      "..         ...       ...       ...       ...       ...       ...  \n",
      "995   3.455842  0.009054  0.000264  0.200673  0.042202  3.915359  \n",
      "996   3.455842  0.009054  0.000264  0.200673  0.984744  3.915359  \n",
      "997   3.455842  0.009054  0.000264  0.200673  0.091196  3.915359  \n",
      "998   3.455842  0.009054  0.000264  0.200673  0.058319  3.714436  \n",
      "999   3.455842  0.009054  0.000264  0.200673  0.243955  3.714436  \n",
      "\n",
      "[1000 rows x 13 columns]\n"
     ]
    }
   ],
   "source": [
    "#Generate transit signals and calculate signal to noise\n",
    "obj = fn.signals(path=Paths[0], number=10, rate_tables=tables, N_b=10, N_phase=10)\n",
    "obj.get_results()\n",
    "log = obj.to_pandas()\n",
    "print(log)"
   ]
  },
  {
   "cell_type": "code",
   "execution_count": 7,
   "metadata": {},
   "outputs": [
    {
     "data": {
      "application/vnd.jupyter.widget-view+json": {
       "model_id": "dc1492d097a84e61add3b592d15b92ec",
       "version_major": 2,
       "version_minor": 0
      },
      "text/plain": [
       "Canvas(toolbar=Toolbar(toolitems=[('Home', 'Reset original view', 'home', 'home'), ('Back', 'Back to previous …"
      ]
     },
     "metadata": {},
     "output_type": "display_data"
    }
   ],
   "source": [
    "#Plot signal to noise as a function of period and radius\n",
    "S_N = log['S/N']\n",
    "rad = log['PL_RADIUS']\n",
    "period = log['PL_PERIOD']\n",
    "fig, ax = plt.subplots(1,2, figsize=[12.8, 4.8], num=1)\n",
    "ax[0].scatter(x=rad, y=S_N)\n",
    "ax[0].set_xlabel('Radius (Earth Radii)')\n",
    "ax[0].set_ylabel('Signal to Noise ratio')\n",
    "ax[1].scatter(x=period, y =S_N)\n",
    "ax[1].set_xlabel('Orbital Period (days)')\n",
    "ax[1].set_ylabel('Signal to noise ratio')\n",
    "plt.show()"
   ]
  },
  {
   "cell_type": "code",
   "execution_count": 8,
   "metadata": {},
   "outputs": [
    {
     "data": {
      "application/vnd.jupyter.widget-view+json": {
       "model_id": "6030aa94e12a48358e38e31021fd222b",
       "version_major": 2,
       "version_minor": 0
      },
      "text/plain": [
       "Canvas(toolbar=Toolbar(toolitems=[('Home', 'Reset original view', 'home', 'home'), ('Back', 'Back to previous …"
      ]
     },
     "metadata": {},
     "output_type": "display_data"
    }
   ],
   "source": [
    "#Plot histogram of phases\n",
    "fig, ax = plt.subplots(1,2, figsize=(12.8, 4.8), num=2)\n",
    "phase_off = np.ndarray.flatten(obj.ph_offset)\n",
    "T0 = np.ndarray.flatten(obj.T_0)\n",
    "ax[0].hist(x=phase_off, bins=20)\n",
    "ax[0].set_xlabel('Phase offset')\n",
    "ax[1].hist(x=T0, bins=20)\n",
    "ax[1].set_xlabel('$T_0$')\n",
    "plt.show()"
   ]
  },
  {
   "cell_type": "code",
   "execution_count": 9,
   "metadata": {},
   "outputs": [
    {
     "data": {
      "application/vnd.jupyter.widget-view+json": {
       "model_id": "ffc26e89c4444f708ed9129ea260f0f1",
       "version_major": 2,
       "version_minor": 0
      },
      "text/plain": [
       "Canvas(toolbar=Toolbar(toolitems=[('Home', 'Reset original view', 'home', 'home'), ('Back', 'Back to previous …"
      ]
     },
     "metadata": {},
     "output_type": "display_data"
    }
   ],
   "source": [
    "N_pl = len(obj.pl_period)\n",
    "fig, ax = plt.subplots(1, int(N_pl), figsize=[6.4*N_pl, 4.8], num=3)\n",
    "for i in range(N_pl):\n",
    "    for j in range(len(obj.b[i])):\n",
    "        b_str = 'b=' + str(round(obj.b[i,j], 3))\n",
    "        ax[i].scatter(x=obj.ph_offset[i,j], y=obj.SN[i,j], label=b_str)\n",
    "        ax[i].set_xlabel('Phase offset')\n",
    "        ax[i].set_ylabel('Signal to noise ratio')\n",
    "        title_str = ('Radius ='+str(round(obj.pl_rad[i], 2))+' Period='+str(round(obj.pl_period[i],2)))\n",
    "        ax[i].set_title(title_str)\n",
    "        ax[i].legend(loc='center left', bbox_to_anchor=(1, 0.5))\n",
    "fig.tight_layout()\n",
    "plt.show()\n"
   ]
  },
  {
   "cell_type": "code",
   "execution_count": 10,
   "metadata": {},
   "outputs": [
    {
     "data": {
      "application/vnd.jupyter.widget-view+json": {
       "model_id": "4f9757d98cc848f497ef301a8e5f5e7d",
       "version_major": 2,
       "version_minor": 0
      },
      "text/plain": [
       "Canvas(toolbar=Toolbar(toolitems=[('Home', 'Reset original view', 'home', 'home'), ('Back', 'Back to previous …"
      ]
     },
     "metadata": {},
     "output_type": "display_data"
    }
   ],
   "source": [
    "#Plot impact parameter vs S/N averaged across all phases\n",
    "N_pl = len(obj.pl_period)\n",
    "fig, ax = plt.subplots(1, int(N_pl), figsize=[6.4*N_pl, 4.8], num=4)\n",
    "for i in range(N_pl):\n",
    "    S_N = np.empty_like(obj.b[i])\n",
    "    for j in range(len(obj.b[i])):\n",
    "        S_N[j] = np.mean(obj.SN[i,j])\n",
    "    ax[i].scatter(x=obj.b[i], y=S_N)\n",
    "    ax[i].set_xlabel('Impact parameter')\n",
    "    ax[i].set_ylabel('Mean S/N')\n",
    "    title_str = ('Radius ='+str(round(obj.pl_rad[i], 2))+' Period='+str(round(obj.pl_period[i],2)))\n",
    "    ax[i].set_title(title_str)\n",
    "fig.tight_layout()\n",
    "plt.show()"
   ]
  }
 ],
 "metadata": {
  "kernelspec": {
   "display_name": "Python 3.8.5 ('py385')",
   "language": "python",
   "name": "python3"
  },
  "language_info": {
   "codemirror_mode": {
    "name": "ipython",
    "version": 3
   },
   "file_extension": ".py",
   "mimetype": "text/x-python",
   "name": "python",
   "nbconvert_exporter": "python",
   "pygments_lexer": "ipython3",
   "version": "3.8.5"
  },
  "orig_nbformat": 4,
  "vscode": {
   "interpreter": {
    "hash": "4f5bc64fcd12770adfbe8e1d766f906d7a6f18ec5269d56f1774edda915e89fd"
   }
  }
 },
 "nbformat": 4,
 "nbformat_minor": 2
}
