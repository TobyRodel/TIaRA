{
 "cells": [
  {
   "cell_type": "code",
   "execution_count": 3,
   "metadata": {},
   "outputs": [],
   "source": [
    "%matplotlib widget\n",
    "import os\n",
    "import numpy as np\n",
    "import pandas as pd\n",
    "import textwrap\n",
    "from astropy.io import fits\n",
    "import scipy.constants as const\n",
    "import single_lc_funcs as fn\n",
    "import matplotlib.pyplot as plt"
   ]
  },
  {
   "cell_type": "code",
   "execution_count": 4,
   "metadata": {},
   "outputs": [],
   "source": [
    "tex_fonts = {\n",
    "    # Use LaTeX to write all text\n",
    "    \"text.usetex\": True,\n",
    "    \"font.family\": \"serif\",\n",
    "    # Use 10pt font in plots, to match 10pt font in document\n",
    "    \"axes.labelsize\": 13,\n",
    "    \"font.size\": 12,\n",
    "    # Make the legend/label fonts a little smaller\n",
    "    \"legend.fontsize\": 13,\n",
    "    \"xtick.labelsize\": 12,\n",
    "    \"ytick.labelsize\": 12\n",
    "}\n",
    "\n",
    "plt.rcParams.update(tex_fonts)"
   ]
  },
  {
   "cell_type": "code",
   "execution_count": 5,
   "metadata": {},
   "outputs": [],
   "source": [
    "fgk = pd.read_csv(os.path.join('Occurrence_rates','norm_rates_FGK.csv'))\n",
    "tables = {'F': fgk, 'G':fgk, 'K':fgk}"
   ]
  },
  {
   "cell_type": "code",
   "execution_count": 18,
   "metadata": {},
   "outputs": [],
   "source": [
    "target_list_path = os.path.join('target-lists', 'year1targets.csv')\n",
    "target_list = pd.read_csv(target_list_path, index_col=None)\n",
    "target_list['N_sec'] = target_list.drop('OBJECT', axis=1).sum(axis=1)\n",
    "mask = target_list['N_sec'] == 1\n",
    "target_list = target_list[mask]\n",
    "del target_list['N_sec']"
   ]
  },
  {
   "cell_type": "code",
   "execution_count": 37,
   "metadata": {},
   "outputs": [],
   "source": [
    "lim = target_list.shape[0]\n",
    "tic, secs = fn.tic_choose(target_list, np.random.randint(low=0, high=lim))\n",
    "Paths = fn.spoc_lc_path(tic, secs)"
   ]
  },
  {
   "cell_type": "code",
   "execution_count": 38,
   "metadata": {},
   "outputs": [
    {
     "name": "stdout",
     "output_type": "stream",
     "text": [
      "            TIC_ID          RA       DEC  TESSMAG     ST_T_EFF TYPE  \\\n",
      "0    TIC 276086922  224.155877 -41.82906  11.8264  5756.620117    G   \n",
      "1    TIC 276086922  224.155877 -41.82906  11.8264  5756.620117    G   \n",
      "2    TIC 276086922  224.155877 -41.82906  11.8264  5756.620117    G   \n",
      "3    TIC 276086922  224.155877 -41.82906  11.8264  5756.620117    G   \n",
      "4    TIC 276086922  224.155877 -41.82906  11.8264  5756.620117    G   \n",
      "..             ...         ...       ...      ...          ...  ...   \n",
      "995  TIC 276086922  224.155877 -41.82906  11.8264  5756.620117    G   \n",
      "996  TIC 276086922  224.155877 -41.82906  11.8264  5756.620117    G   \n",
      "997  TIC 276086922  224.155877 -41.82906  11.8264  5756.620117    G   \n",
      "998  TIC 276086922  224.155877 -41.82906  11.8264  5756.620117    G   \n",
      "999  TIC 276086922  224.155877 -41.82906  11.8264  5756.620117    G   \n",
      "\n",
      "      PL_PERIOD  PL_RADIUS   P_TRANS     P_OBS    IMPACT    OFFSET        S/N  \n",
      "0    258.318097   9.477674  0.004638  0.000081  0.623727  0.039733   0.000000  \n",
      "1    258.318097   9.477674  0.004638  0.000081  0.623727  0.085305  18.054396  \n",
      "2    258.318097   9.477674  0.004638  0.000081  0.623727  0.692925   0.000000  \n",
      "3    258.318097   9.477674  0.004638  0.000081  0.623727  0.097770  18.054396  \n",
      "4    258.318097   9.477674  0.004638  0.000081  0.623727  0.016050  16.807728  \n",
      "..          ...        ...       ...       ...       ...       ...        ...  \n",
      "995  441.303816   1.907882  0.003132  0.000047  0.440339  0.009560   0.823406  \n",
      "996  441.303816   1.907882  0.003132  0.000047  0.440339  0.025328   0.000000  \n",
      "997  441.303816   1.907882  0.003132  0.000047  0.440339  0.050178   0.823406  \n",
      "998  441.303816   1.907882  0.003132  0.000047  0.440339  0.014323   0.823406  \n",
      "999  441.303816   1.907882  0.003132  0.000047  0.440339  0.024592   0.000000  \n",
      "\n",
      "[1000 rows x 13 columns]\n"
     ]
    },
    {
     "name": "stderr",
     "output_type": "stream",
     "text": [
      "/home/astro/phrpkq/TIaRA/single_lc_funcs.py:152: RuntimeWarning: invalid value encountered in sqrt\n",
      "  T_dur = (per*day/np.pi)*np.arcsin((self.st_rad*R_sun/a)*np.sqrt(1+k-np.square(b))/np.sqrt(1-np.square(cosi)))\n"
     ]
    }
   ],
   "source": [
    "obj = fn.signals(path=Paths[0], number=10, rate_tables=tables, N_b=10, N_phase=10)\n",
    "obj.get_results()\n",
    "log = obj.to_pandas()\n",
    "print(log)"
   ]
  },
  {
   "cell_type": "code",
   "execution_count": 40,
   "metadata": {},
   "outputs": [
    {
     "data": {
      "application/vnd.jupyter.widget-view+json": {
       "model_id": "12b9a7030a7d46ebb83936b43fae07d0",
       "version_major": 2,
       "version_minor": 0
      },
      "text/plain": [
       "Canvas(toolbar=Toolbar(toolitems=[('Home', 'Reset original view', 'home', 'home'), ('Back', 'Back to previous …"
      ]
     },
     "metadata": {},
     "output_type": "display_data"
    },
    {
     "data": {
      "application/vnd.jupyter.widget-view+json": {
       "model_id": "e5faf399251a4d848ea462ecf3b250dc",
       "version_major": 2,
       "version_minor": 0
      },
      "text/plain": [
       "Canvas(toolbar=Toolbar(toolitems=[('Home', 'Reset original view', 'home', 'home'), ('Back', 'Back to previous …"
      ]
     },
     "metadata": {},
     "output_type": "display_data"
    }
   ],
   "source": [
    "S_N = log['S/N']\n",
    "rad = log['PL_RADIUS']\n",
    "period = log['PL_PERIOD']\n",
    "fig, ax = plt.subplots(1,1)\n",
    "ax.scatter(x=rad, y=S_N)\n",
    "ax.set_xlabel('Radius (Earth Radii)')\n",
    "ax.set_ylabel('Signal to Noise ratio')\n",
    "fig1, ax1 = plt.subplots(1,1)\n",
    "ax1.scatter(x=period, y =S_N)\n",
    "ax1.set_xlabel('Orbital Period (days)')\n",
    "ax1.set_ylabel('Signal to noise ratio')\n",
    "plt.show()"
   ]
  }
 ],
 "metadata": {
  "kernelspec": {
   "display_name": "Python 3.8.5 ('py385')",
   "language": "python",
   "name": "python3"
  },
  "language_info": {
   "codemirror_mode": {
    "name": "ipython",
    "version": 3
   },
   "file_extension": ".py",
   "mimetype": "text/x-python",
   "name": "python",
   "nbconvert_exporter": "python",
   "pygments_lexer": "ipython3",
   "version": "3.8.5"
  },
  "orig_nbformat": 4,
  "vscode": {
   "interpreter": {
    "hash": "4f5bc64fcd12770adfbe8e1d766f906d7a6f18ec5269d56f1774edda915e89fd"
   }
  }
 },
 "nbformat": 4,
 "nbformat_minor": 2
}
