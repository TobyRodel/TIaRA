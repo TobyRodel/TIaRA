{
 "cells": [
  {
   "cell_type": "code",
   "execution_count": 1,
   "id": "f16e772d-791f-45f6-8186-45fef699980b",
   "metadata": {},
   "outputs": [],
   "source": [
    "%matplotlib notebook\n",
    "import numpy as np\n",
    "import matplotlib.pyplot as plt\n",
    "import batman\n",
    "import random\n",
    "from astropy.io import ascii\n",
    "from scipy import constants"
   ]
  },
  {
   "cell_type": "code",
   "execution_count": 2,
   "id": "1fda0977-f4f2-4f1b-bc6a-1dae78f5ca33",
   "metadata": {},
   "outputs": [],
   "source": [
    "#Define constants\n",
    "M_sun = 1.989e+30\n",
    "R_sun = 695700000\n",
    "R_Earth = 6378100\n",
    "day = 86400\n",
    "AU = 1.496e+11"
   ]
  },
  {
   "cell_type": "code",
   "execution_count": 3,
   "id": "5f1eff54-8be5-4d8a-be62-9de122a95502",
   "metadata": {},
   "outputs": [],
   "source": [
    "def planetmaker(rates, radius_low, radius_up, period_low, period_up):\n",
    "    '''Generates parameters for a given number of planets in a planetary system from occurence rates'''\n",
    "    rowdex = np.arange(len(rates))\n",
    "    cosi = np.random.random_sample()\n",
    "    anglew = np.random.uniform(low=-180., high=180.)\n",
    "    e = np.random.beta(a=1.03, b=13.6)\n",
    "    rows = np.random.choice(rowdex, p=rates)\n",
    "    radp = np.random.uniform(low=radius_low[rows], high=radius_up[rows])\n",
    "    per = np.random.uniform(low=period_low[rows], high=period_up[rows])\n",
    "    return radp, per, cosi, anglew, e"
   ]
  },
  {
   "cell_type": "code",
   "execution_count": 4,
   "id": "b50bf137-eb8a-400c-a1fd-483b373b4dbf",
   "metadata": {},
   "outputs": [],
   "source": [
    "table = ascii.read('norm_rates_FGK.csv', format='csv', header_start=0, data_start=1)\n",
    "occ = np.array(table['f'], dtype=float)\n",
    "radbinlower = np.array(table['rmin'], dtype=float)\n",
    "radbinupper = np.array(table['rmax'], dtype=float)\n",
    "pbinlower = np.array(table['pmin'], dtype=float)\n",
    "pbinupper = np.array(table['pmax'], dtype=float)"
   ]
  },
  {
   "cell_type": "code",
   "execution_count": 5,
   "id": "ad46ecba-ad96-4f64-bb97-7c9f5d846306",
   "metadata": {},
   "outputs": [],
   "source": [
    "#Generate a random temperature. In the final pipeline Temperature will be chosen from TICv8\n",
    "T_eff = np.random.uniform(3700.0, 7500.0)"
   ]
  },
  {
   "cell_type": "code",
   "execution_count": 6,
   "id": "c966004d-7a17-4081-a4a4-87b99a0cb960",
   "metadata": {},
   "outputs": [],
   "source": [
    "#Assign spectral type based on temperature\n",
    "if 7500<= T_eff <10000:\n",
    "    spectral_type = 'A'\n",
    "if 6000<= T_eff <7500:\n",
    "    spectral_type = 'F'\n",
    "if 5200<= T_eff <6000:\n",
    "    spectral_type = 'G'\n",
    "if 3700<= T_eff < 5200:\n",
    "    spectral_type = 'K'\n",
    "if 2400<= T_eff < 3700:\n",
    "    spectral_type = 'M'"
   ]
  },
  {
   "cell_type": "code",
   "execution_count": 7,
   "id": "ec30364a-a65d-4284-91c6-b12b6f182581",
   "metadata": {},
   "outputs": [],
   "source": [
    "#Choose mass and radius dependent on spectral type. In the final pipeline these will come from TICv8\n",
    "if spectral_type == 'A':\n",
    "    M_star = np.random.uniform(2.1, 1.4)\n",
    "    R_star = np.random.uniform(1.4, 1.8)\n",
    "if spectral_type == 'F':\n",
    "    M_star = np.random.uniform(1.04, 1.4)\n",
    "    R_star = np.random.uniform(1.15, 1.4)\n",
    "if spectral_type == 'G':\n",
    "    M_star = np.random.uniform(0.8, 1.04)\n",
    "    R_star = np.random.uniform(0.96, 1.15)\n",
    "if spectral_type == 'K':\n",
    "    M_star = np.random.uniform(0.45, 0.8)\n",
    "    R_star = np.random.uniform(0.7, 0.96)\n",
    "if spectral_type == 'M':\n",
    "    M_star = np.random.uniform(0.08, 0.45)\n",
    "    R_star = np.random.uniform(0.1, 0.8)"
   ]
  },
  {
   "cell_type": "code",
   "execution_count": 9,
   "id": "c4e4680c-fdee-499a-a401-4c1362c64220",
   "metadata": {},
   "outputs": [],
   "source": [
    "radius, period, cosi, peri, ecc = planetmaker(occ, radbinlower, radbinupper, pbinlower, pbinupper)\n",
    "a = np.cbrt((constants.G*(M_star*M_sun)*np.square(period*day))/(4*np.square(np.pi)))\n",
    "b = ((a*np.square(cosi))/(R_star*R_sun))*((1-np.square(ecc))/(1+ecc*np.sin(peri)))\n",
    "k = (radius*R_Earth)/(R_star*R_sun)\n",
    "Transit = (0<= b) & (b< 1)\n",
    "Grazing = (b >= 1) & (b < (1+k))\n",
    "inc = np.degrees(np.arccos(cosi))"
   ]
  },
  {
   "cell_type": "code",
   "execution_count": 10,
   "id": "dd297f6f-42b8-44a6-b4c2-8e41abaa9971",
   "metadata": {},
   "outputs": [],
   "source": [
    "if Transit == True:\n",
    "    #Generate range of Time values to test for in/out transit times in TESS BJD, assuming a mission duration of 10 years and a cadence of 20s\n",
    "    T_start = 0.0\n",
    "    T_end = 3650.0\n",
    "    cadence = 20.0\n",
    "    T_range = np.arange(T_start, T_end, step=cadence/day, dtype=float)\n",
    "    #Calculate Transit duration\n",
    "    T_dur = (period*day/np.pi)*np.arcsin((R_star*R_sun/a)*np.sqrt(1+k-np.square(b))/np.sqrt(1-np.square(cosi)))\n",
    "    T_0 = np.random.uniform(low=T_start, high=T_start+period) #First possible to observe transit ingress time\n",
    "    T_1s = np.arange(T_0, T_end, period) #All transit ingress times over duration of TESS mission\n",
    "    T_4s = T_1s + T_dur/day #All transit egress times over duration of TESS mission"
   ]
  },
  {
   "cell_type": "code",
   "execution_count": 13,
   "id": "3f19330f-34c5-4ffb-a39c-503d41850fec",
   "metadata": {},
   "outputs": [
    {
     "name": "stdout",
     "output_type": "stream",
     "text": [
      "F type star\n",
      "Planet\n",
      "Radius =  0.6061099887634434 Earth Radii\n",
      "Period = 365.00963561194783 days\n",
      "Inclination angle = 69.43987241912315 deg\n",
      "Eccentricity = 0.041609665538543505\n",
      "Semi major axis = 1.0346468320947166 AU\n",
      "Impact parameter, b = 23.01803428275487\n",
      "Transit? False\n",
      "Grazing? False\n"
     ]
    }
   ],
   "source": [
    "print(spectral_type, 'type star')\n",
    "print('Planet')\n",
    "print('Radius = ',radius, 'Earth Radii')\n",
    "print('Period =', period, 'days')\n",
    "print('Inclination angle =', inc, 'deg')\n",
    "print('Eccentricity =', ecc)\n",
    "print('Semi major axis =',a/AU, 'AU')\n",
    "print('Impact parameter, b =', b)\n",
    "print('Transit?', Transit)\n",
    "print('Grazing?', Grazing)\n",
    "if Transit == True:\n",
    "    print('Transit duration =', T_dur[i]/3600, 'hours')\n",
    "    #print('Transits (ingress) occur at TBJD =', T_1s)"
   ]
  },
  {
   "cell_type": "code",
   "execution_count": null,
   "id": "df5befbc-3dea-4fd2-87d0-b1131a728b3a",
   "metadata": {},
   "outputs": [],
   "source": []
  }
 ],
 "metadata": {
  "kernelspec": {
   "display_name": "Python 3 (ipykernel)",
   "language": "python",
   "name": "python3"
  },
  "language_info": {
   "codemirror_mode": {
    "name": "ipython",
    "version": 3
   },
   "file_extension": ".py",
   "mimetype": "text/x-python",
   "name": "python",
   "nbconvert_exporter": "python",
   "pygments_lexer": "ipython3",
   "version": "3.8.5"
  }
 },
 "nbformat": 4,
 "nbformat_minor": 5
}
