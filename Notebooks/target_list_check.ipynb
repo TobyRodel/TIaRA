{
 "cells": [
  {
   "cell_type": "code",
   "execution_count": 21,
   "metadata": {},
   "outputs": [],
   "source": [
    "%matplotlib widget\n",
    "import pandas as pd\n",
    "import numpy as np\n",
    "import os \n",
    "import matplotlib.pyplot as plt"
   ]
  },
  {
   "cell_type": "code",
   "execution_count": 22,
   "metadata": {},
   "outputs": [],
   "source": [
    "tex_fonts = {\n",
    "    # Use LaTeX to write all text\n",
    "    \"text.usetex\": True,\n",
    "    \"font.family\": \"serif\",\n",
    "    # Use 10pt font in plots, to match 10pt font in document\n",
    "    \"axes.labelsize\": 13,\n",
    "    \"font.size\": 12,\n",
    "    # Make the legend/label fonts a little smaller\n",
    "    \"legend.fontsize\": 13,\n",
    "    \"xtick.labelsize\": 12,\n",
    "    \"ytick.labelsize\": 12\n",
    "}\n",
    "\n",
    "plt.rcParams.update(tex_fonts)"
   ]
  },
  {
   "cell_type": "code",
   "execution_count": 23,
   "metadata": {},
   "outputs": [],
   "source": [
    "filename = os.path.join('..', 'target-lists','year1targets.csv')\n",
    "df = pd.read_csv(filename, header=0, index_col=None)\n",
    "df['N-sec'] = df.drop('OBJECT', axis=1).sum(axis=1)\n",
    "n_sectors = df['N-sec'].to_numpy()"
   ]
  },
  {
   "cell_type": "code",
   "execution_count": 26,
   "metadata": {},
   "outputs": [
    {
     "data": {
      "application/vnd.jupyter.widget-view+json": {
       "model_id": "48d32d093a864dcc8a4e8ed479144ebd",
       "version_major": 2,
       "version_minor": 0
      },
      "text/plain": [
       "Canvas(toolbar=Toolbar(toolitems=[('Home', 'Reset original view', 'home', 'home'), ('Back', 'Back to previous …"
      ]
     },
     "metadata": {},
     "output_type": "display_data"
    }
   ],
   "source": [
    "fig, ax = plt.subplots()\n",
    "n, bins, _ = ax.hist(x=n_sectors, bins=np.arange(1,15), color='r')\n",
    "tot = sum(n)\n",
    "message = 'Number of targets = ' + str(int(tot))\n",
    "ax.set_title('Year 1')\n",
    "ax.set_xlim(1,14)\n",
    "ax.set_xlabel('Number of sectors')\n",
    "ax.set_ylabel('Number of targets')\n",
    "ax.set_xticks(np.arange(1,14))\n",
    "plt.text(x=5, y=600000,s=message)\n",
    "plt.tight_layout()\n",
    "plt.show()"
   ]
  }
 ],
 "metadata": {
  "kernelspec": {
   "display_name": "Python 3.8.5 ('py385')",
   "language": "python",
   "name": "python3"
  },
  "language_info": {
   "codemirror_mode": {
    "name": "ipython",
    "version": 3
   },
   "file_extension": ".py",
   "mimetype": "text/x-python",
   "name": "python",
   "nbconvert_exporter": "python",
   "pygments_lexer": "ipython3",
   "version": "3.8.5"
  },
  "orig_nbformat": 4,
  "vscode": {
   "interpreter": {
    "hash": "4f5bc64fcd12770adfbe8e1d766f906d7a6f18ec5269d56f1774edda915e89fd"
   }
  }
 },
 "nbformat": 4,
 "nbformat_minor": 2
}
