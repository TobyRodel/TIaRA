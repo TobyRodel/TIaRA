{
 "cells": [
  {
   "cell_type": "code",
   "execution_count": 1,
   "metadata": {},
   "outputs": [],
   "source": [
    "%matplotlib widget\n",
    "import os\n",
    "import numpy as np\n",
    "import pandas as pd\n",
    "import textwrap\n",
    "from astropy.io import fits\n",
    "import TIaRA_funcs\n",
    "import matplotlib.pyplot as plt"
   ]
  },
  {
   "cell_type": "code",
   "execution_count": 2,
   "metadata": {},
   "outputs": [],
   "source": [
    "tex_fonts = {\n",
    "    # Use LaTeX to write all text\n",
    "    \"text.usetex\": True,\n",
    "    \"font.family\": \"serif\",\n",
    "    # Use 10pt font in plots, to match 10pt font in document\n",
    "    \"axes.labelsize\": 13,\n",
    "    \"font.size\": 12,\n",
    "    # Make the legend/label fonts a little smaller\n",
    "    \"legend.fontsize\": 13,\n",
    "    \"xtick.labelsize\": 12,\n",
    "    \"ytick.labelsize\": 12\n",
    "}\n",
    "\n",
    "plt.rcParams.update(tex_fonts)"
   ]
  },
  {
   "cell_type": "code",
   "execution_count": 3,
   "metadata": {},
   "outputs": [
    {
     "name": "stdout",
     "output_type": "stream",
     "text": [
      "['/storage/astro2/phsqzm/TESS/SPOC_30min/S07/target/0000/0001/2677/7513/hlsp_tess-spoc_tess_phot_0000000126777513-s0007_tess_v1_lc.fits']\n",
      "{'id': 'TIC 126777513', 'ra': 116.211819845974, 'dec': -24.8366595495894, 'mag': 12.4005003, 'temp': 8171.0, 'log_g': 4.25988007, 'mh': None, 'rad': 1.73623002, 'mass': 1.993008157555734, 'spectral_type': 'A'}\n",
      "{'flux': array([1496.6345, 1491.2922, 1489.1714, ..., 1485.292 , 1492.1621,\n",
      "       1489.2076], dtype=float32), 'flux_err': array([2.2044544, 2.1898444, 2.178663 , ..., 2.0724518, 2.0741591,\n",
      "       2.0730176], dtype=float32), 'time': array([1491.66062555, 1491.6814594 , 1491.70229325, ..., 1516.03577701,\n",
      "       1516.05661003, 1516.07744304]), 'sector': 7, 'cam': 2, 'ccd': 2, 'livetime': 19.354619530561553, 'deadtime': 0.792, 'crowd': 0.80415815, 'target_frac': 0.66502661, 'var': 1.7384757291325093, 'cadence': 0.020833333333333332, 'noise2hr': 1126.98303223}\n"
     ]
    }
   ],
   "source": [
    "#Test star class by pulling stellar and all sector data for a random target\n",
    "target_list_path = os.path.join('target-lists', 'year1targets.csv')\n",
    "target_list = pd.read_csv(target_list_path, header=0, index_col=None)\n",
    "rows = target_list.shape[0]\n",
    "tic, secs = TIaRA_funcs.tic_choose(target_list, row=np.random.randint(low=0, high=rows))\n",
    "paths = TIaRA_funcs.spoc_lc_path(tic, secs)\n",
    "print(paths)\n",
    "star1 = TIaRA_funcs.star(paths[0])\n",
    "print(vars(star1))\n",
    "lcs = []\n",
    "for p in paths:\n",
    "    lcs.append(star1.lightcurve(p))\n",
    "for lc in lcs:\n",
    "    print(vars(lc))"
   ]
  },
  {
   "cell_type": "code",
   "execution_count": 4,
   "metadata": {},
   "outputs": [
    {
     "data": {
      "application/vnd.jupyter.widget-view+json": {
       "model_id": "a2ee119d6d8340329af51fb4a8a7839e",
       "version_major": 2,
       "version_minor": 0
      },
      "text/plain": [
       "Canvas(toolbar=Toolbar(toolitems=[('Home', 'Reset original view', 'home', 'home'), ('Back', 'Back to previous …"
      ]
     },
     "metadata": {},
     "output_type": "display_data"
    }
   ],
   "source": [
    "#Plot HR diagram from a sector(1) worth of stars\n",
    "leading = '0'*(4-len(str(1)))\n",
    "sid ='s'+leading+str(1)\n",
    "dat = pd.read_csv(os.path.join('target-lists',sid+'.csv'),\n",
    "                    usecols=['#TIC_ID'])\n",
    "data = np.ndarray.flatten(dat.to_numpy(dtype=int))\n",
    "tics = np.random.choice(data, size=1000, replace=False)\n",
    "Mags = np.array([])\n",
    "Temps = np.array([])\n",
    "for i in range(len(tics)):\n",
    "    TICID = int(tics[i])\n",
    "    path = TIaRA_funcs.spoc_lc_path(TICID, [1])[0]\n",
    "    star_ = TIaRA_funcs.star(path)\n",
    "    if star_.temp != None and star_.mag != None:\n",
    "        Mags = np.append(Mags, star_.mag)\n",
    "        Temps = np.append(Temps, star_.temp)\n",
    "    \n",
    "mask = (np.isnan(Mags)==False)&(np.isnan(Temps)==False)\n",
    "plt.scatter(x=Temps[mask], y=Mags[mask], s=1.)\n",
    "plt.xlabel('Temperature (K)')\n",
    "plt.ylabel('TESS magnitude')\n",
    "plt.xlim(2400, 10000)\n",
    "plt.title('1000 random stars from TESS sector 1')\n",
    "plt.gca().invert_xaxis()\n",
    "plt.show()\n"
   ]
  }
 ],
 "metadata": {
  "kernelspec": {
   "display_name": "Python 3.8.5 ('py385')",
   "language": "python",
   "name": "python3"
  },
  "language_info": {
   "codemirror_mode": {
    "name": "ipython",
    "version": 3
   },
   "file_extension": ".py",
   "mimetype": "text/x-python",
   "name": "python",
   "nbconvert_exporter": "python",
   "pygments_lexer": "ipython3",
   "version": "3.8.5"
  },
  "orig_nbformat": 4,
  "vscode": {
   "interpreter": {
    "hash": "4f5bc64fcd12770adfbe8e1d766f906d7a6f18ec5269d56f1774edda915e89fd"
   }
  }
 },
 "nbformat": 4,
 "nbformat_minor": 2
}
